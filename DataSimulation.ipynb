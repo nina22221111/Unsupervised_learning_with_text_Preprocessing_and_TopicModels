{
 "cells": [
  {
   "cell_type": "markdown",
   "id": "07be473b",
   "metadata": {},
   "source": [
    "# SIMULATING DATA"
   ]
  },
  {
   "cell_type": "code",
   "execution_count": 1,
   "id": "a516a39f",
   "metadata": {},
   "outputs": [],
   "source": [
    "import numpy as np \n",
    "import pandas as pd \n",
    "import os\n",
    "import matplotlib.pyplot as plt\n",
    "np.random.seed(0)"
   ]
  },
  {
   "cell_type": "markdown",
   "id": "32eb577a",
   "metadata": {},
   "source": [
    "## DICTIONARY"
   ]
  },
  {
   "cell_type": "code",
   "execution_count": 2,
   "id": "92609dfa",
   "metadata": {},
   "outputs": [],
   "source": [
    "dictionary = ['Athletics',\n",
    " 'Archery',\n",
    " 'Badminton',\n",
    " 'Baseball',\n",
    " 'Basketball',\n",
    " 'Bobsleigh',\n",
    " 'Bowling',\n",
    " 'Boxing',\n",
    " 'Canoeing',\n",
    " 'Cycling',\n",
    " 'Climbing',\n",
    " 'Cricket',\n",
    " 'Diving',\n",
    " 'Equestrian',\n",
    " 'Fencing',\n",
    " 'Fishing',\n",
    " 'Football',\n",
    " 'Golf',\n",
    " 'Gymnastics',\n",
    " 'Handball',\n",
    " 'Hiking',\n",
    " 'Hockey',\n",
    " 'Hunting',\n",
    " 'Judo',\n",
    " 'Karate',\n",
    " 'Kayaking',\n",
    " 'Lacrosse',\n",
    " 'Motorsports',\n",
    " 'Paddleboarding',\n",
    " 'Paintball',\n",
    " 'Paragliding',\n",
    " 'Powerlifting',\n",
    " 'Rafting',\n",
    " 'Rockclimbing',\n",
    " 'Rowing',\n",
    " 'Rugby',\n",
    " 'Running',\n",
    " 'Sailing',\n",
    " 'Shooting',\n",
    " 'Skateboarding',\n",
    " 'Skating',\n",
    " 'Skeetshooting',\n",
    " 'Skiing',\n",
    " 'Skydiving',\n",
    " 'Snowboarding',\n",
    " 'Soccer',\n",
    " 'Squash',\n",
    " 'Surfcasting',\n",
    " 'Surfing',\n",
    " 'Swimming',\n",
    " 'Note',\n",
    " 'Chord',\n",
    " 'Harmony',\n",
    " 'Melody',\n",
    " 'Rhythm',\n",
    " 'Beat',\n",
    " 'Tempo',\n",
    " 'Pitch',\n",
    " 'Key',\n",
    " 'Scale',\n",
    " 'Interval',\n",
    " 'Tune',\n",
    " 'Composition',\n",
    " 'Song',\n",
    " 'Lyrics',\n",
    " 'Instrument',\n",
    " 'Piano',\n",
    " 'Guitar',\n",
    " 'Bass',\n",
    " 'Drums',\n",
    " 'Violin',\n",
    " 'Cello',\n",
    " 'Trumpet',\n",
    " 'Saxophone',\n",
    " 'Clarinet',\n",
    " 'Flute',\n",
    " 'Harp',\n",
    " 'Accordion',\n",
    " 'Banjo',\n",
    " 'Mandolin',\n",
    " 'Ukulele',\n",
    " 'Harmonica',\n",
    " 'Synthesizer',\n",
    " 'Sampler',\n",
    " 'Mixer',\n",
    " 'DJ',\n",
    " 'Producer',\n",
    " 'Conductor',\n",
    " 'Singer',\n",
    " 'Vocalist',\n",
    " 'Backing Singer',\n",
    " 'Choir',\n",
    " 'Ensemble',\n",
    " 'Band',\n",
    " 'Soloist',\n",
    " 'Improvisation',\n",
    " 'Jazz',\n",
    " 'Blues',\n",
    " 'Rock',\n",
    " 'Pop']"
   ]
  },
  {
   "cell_type": "code",
   "execution_count": 3,
   "id": "c8b72657",
   "metadata": {},
   "outputs": [
    {
     "data": {
      "text/plain": [
       "100"
      ]
     },
     "execution_count": 3,
     "metadata": {},
     "output_type": "execute_result"
    }
   ],
   "source": [
    "len(dictionary)"
   ]
  },
  {
   "cell_type": "code",
   "execution_count": 4,
   "id": "b190d9a5",
   "metadata": {},
   "outputs": [],
   "source": [
    "dictionary = [word.lower() for word in dictionary]"
   ]
  },
  {
   "cell_type": "code",
   "execution_count": 5,
   "id": "1383a5fc",
   "metadata": {},
   "outputs": [],
   "source": [
    "dictionary = np.array(dictionary)"
   ]
  },
  {
   "cell_type": "code",
   "execution_count": 6,
   "id": "e1413899",
   "metadata": {},
   "outputs": [
    {
     "data": {
      "text/plain": [
       "array(['athletics', 'archery', 'badminton', 'baseball', 'basketball',\n",
       "       'bobsleigh', 'bowling', 'boxing', 'canoeing', 'cycling',\n",
       "       'climbing', 'cricket', 'diving', 'equestrian', 'fencing',\n",
       "       'fishing', 'football', 'golf', 'gymnastics', 'handball', 'hiking',\n",
       "       'hockey', 'hunting', 'judo', 'karate', 'kayaking', 'lacrosse',\n",
       "       'motorsports', 'paddleboarding', 'paintball', 'paragliding',\n",
       "       'powerlifting', 'rafting', 'rockclimbing', 'rowing', 'rugby',\n",
       "       'running', 'sailing', 'shooting', 'skateboarding', 'skating',\n",
       "       'skeetshooting', 'skiing', 'skydiving', 'snowboarding', 'soccer',\n",
       "       'squash', 'surfcasting', 'surfing', 'swimming', 'note', 'chord',\n",
       "       'harmony', 'melody', 'rhythm', 'beat', 'tempo', 'pitch', 'key',\n",
       "       'scale', 'interval', 'tune', 'composition', 'song', 'lyrics',\n",
       "       'instrument', 'piano', 'guitar', 'bass', 'drums', 'violin',\n",
       "       'cello', 'trumpet', 'saxophone', 'clarinet', 'flute', 'harp',\n",
       "       'accordion', 'banjo', 'mandolin', 'ukulele', 'harmonica',\n",
       "       'synthesizer', 'sampler', 'mixer', 'dj', 'producer', 'conductor',\n",
       "       'singer', 'vocalist', 'backing singer', 'choir', 'ensemble',\n",
       "       'band', 'soloist', 'improvisation', 'jazz', 'blues', 'rock', 'pop'],\n",
       "      dtype='<U14')"
      ]
     },
     "execution_count": 6,
     "metadata": {},
     "output_type": "execute_result"
    }
   ],
   "source": [
    "dictionary"
   ]
  },
  {
   "cell_type": "markdown",
   "id": "1a56fccf",
   "metadata": {},
   "source": [
    "## TOPICS - DISTRIBUTION OVER WORDS"
   ]
  },
  {
   "cell_type": "markdown",
   "id": "a49c65cc",
   "metadata": {},
   "source": [
    "Topic is a distribution over words, so now we will make two vectors that represents two distributions"
   ]
  },
  {
   "cell_type": "markdown",
   "id": "b593995e",
   "metadata": {},
   "source": [
    "### SPORT DISTRIBUTION"
   ]
  },
  {
   "cell_type": "markdown",
   "id": "0694f4e6",
   "metadata": {},
   "source": [
    "90% probability is on first 10 words\n",
    "\n",
    "The scale parameter, betha = 1 / lambda"
   ]
  },
  {
   "cell_type": "code",
   "execution_count": 7,
   "id": "512c7e29",
   "metadata": {},
   "outputs": [],
   "source": [
    "# an array of 10 random numbers from an exponential distribution, normalized so it sums to .9\n",
    "exp_array = np.random.exponential(1, size=10)\n",
    "ten = (exp_array / np.sum(exp_array)) * 0.9\n",
    "\n",
    "# an array of 90 random numbers from an exponential distribution, normalized so it sums to .1\n",
    "exp_array = np.random.exponential(1, size=90)\n",
    "ninety = (exp_array / np.sum(exp_array)) * 0.1\n"
   ]
  },
  {
   "cell_type": "code",
   "execution_count": 8,
   "id": "77314a64",
   "metadata": {},
   "outputs": [
    {
     "data": {
      "text/plain": [
       "(0.9, 0.09999999999999999)"
      ]
     },
     "execution_count": 8,
     "metadata": {},
     "output_type": "execute_result"
    }
   ],
   "source": [
    "ten.sum(), ninety.sum()"
   ]
  },
  {
   "cell_type": "markdown",
   "id": "70f90087",
   "metadata": {},
   "source": [
    "##### Check that it sums to 1"
   ]
  },
  {
   "cell_type": "code",
   "execution_count": 9,
   "id": "08b8221a",
   "metadata": {},
   "outputs": [
    {
     "data": {
      "text/plain": [
       "1.0000000000000002"
      ]
     },
     "execution_count": 9,
     "metadata": {},
     "output_type": "execute_result"
    }
   ],
   "source": [
    "b_sport = np.concatenate([ten, ninety])\n",
    "b_sport.sum()\n",
    "#sport_distribution"
   ]
  },
  {
   "cell_type": "code",
   "execution_count": 10,
   "id": "e5019360",
   "metadata": {},
   "outputs": [
    {
     "data": {
      "text/plain": [
       "array([5.99453797e-02, 9.45968814e-02, 6.95372970e-02, 5.92921013e-02,\n",
       "       4.15050497e-02, 7.81943039e-02, 4.33481869e-02, 1.67476171e-01,\n",
       "       2.49679651e-01, 3.64249781e-02, 1.96318530e-03, 9.41833374e-04,\n",
       "       1.05039600e-03, 3.25123775e-03, 9.22036849e-05, 1.14071281e-04,\n",
       "       2.55588693e-05, 2.23671245e-03, 1.88421234e-03, 2.55307850e-03,\n",
       "       4.81158872e-03, 2.00866241e-03, 7.74476514e-04, 1.89766617e-03,\n",
       "       1.57508702e-04, 1.27813436e-03, 1.93615773e-04, 3.62183546e-03,\n",
       "       9.23255292e-04, 6.70162108e-04, 3.84504911e-04, 1.86227752e-03,\n",
       "       7.62154749e-04, 1.05152451e-03, 2.37356827e-05, 1.20299162e-03,\n",
       "       1.18499237e-03, 1.20069801e-03, 3.60118202e-03, 1.43293103e-03,\n",
       "       5.57484547e-04, 7.18921762e-04, 1.49670918e-03, 7.77258816e-05,\n",
       "       1.37508709e-03, 1.38970866e-03, 2.95569298e-04, 1.72717545e-04,\n",
       "       4.74201281e-04, 5.65722668e-04, 1.05664624e-03, 7.22415315e-04,\n",
       "       5.57398514e-03, 1.34685570e-04, 2.93185303e-04, 2.20123495e-04,\n",
       "       1.32482202e-03, 3.65485131e-04, 7.85753529e-04, 3.50715193e-04,\n",
       "       2.16637202e-04, 1.46348212e-04, 1.33649613e-03, 1.86086088e-04,\n",
       "       2.73888864e-04, 5.75622969e-04, 2.15267902e-03, 1.27815561e-04,\n",
       "       2.27716906e-03, 1.26426470e-04, 4.69122413e-03, 7.91253092e-04,\n",
       "       4.70736075e-03, 1.16182027e-03, 1.68207600e-03, 5.00229985e-05,\n",
       "       4.15950355e-04, 1.60239512e-04, 4.39432358e-04, 1.58152166e-04,\n",
       "       4.78879943e-04, 6.69309546e-04, 8.29590122e-05, 1.47553906e-03,\n",
       "       1.04622248e-03, 3.85924513e-04, 9.26923743e-04, 1.23442745e-04,\n",
       "       1.07349879e-03, 3.31505710e-03, 4.79955139e-04, 1.37750643e-03,\n",
       "       1.76849425e-04, 1.57657573e-03, 4.27517428e-04, 2.53204398e-04,\n",
       "       1.10507376e-03, 2.54173050e-05, 2.20950057e-03, 5.88936338e-06])"
      ]
     },
     "execution_count": 10,
     "metadata": {},
     "output_type": "execute_result"
    }
   ],
   "source": [
    "b_sport "
   ]
  },
  {
   "cell_type": "code",
   "execution_count": 11,
   "id": "9d8d09e8",
   "metadata": {},
   "outputs": [
    {
     "data": {
      "image/png": "[encoded data removed]",
      "text/plain": [
       "<Figure size 432x288 with 1 Axes>"
      ]
     },
     "metadata": {
      "needs_background": "light"
     },
     "output_type": "display_data"
    }
   ],
   "source": [
    "import numpy as np\n",
    "import matplotlib.pyplot as plt\n",
    "\n",
    "plt.plot(range(len(b_sport )), b_sport, marker='o')\n",
    "\n",
    "# Set plot title and axis labels\n",
    "plt.title('sport_distribution')\n",
    "plt.xlabel('Position in the words vector')\n",
    "plt.ylabel('Probability that the word will occur')\n",
    "\n",
    "# Show plot\n",
    "plt.show()"
   ]
  },
  {
   "cell_type": "markdown",
   "id": "6123f8d3",
   "metadata": {},
   "source": [
    "### MUSIC DISTRIBUTION"
   ]
  },
  {
   "cell_type": "markdown",
   "id": "477a12e8",
   "metadata": {},
   "source": [
    "90% of probability is on last 10 words in the dictionary"
   ]
  },
  {
   "cell_type": "code",
   "execution_count": 12,
   "id": "8abef5f0",
   "metadata": {},
   "outputs": [],
   "source": [
    "# an array of 90 random numbers from an exponential distribution, normalized so it sums to .1\n",
    "exp_array = np.random.exponential(1, size=90)\n",
    "eighty = (exp_array / np.sum(exp_array)) * 0.1\n",
    "\n",
    "# an array of 10 random numbers from an exponential distribution, normalized so it sums to .9\n",
    "exp_array = np.random.exponential(1, size=10)\n",
    "twenty = (exp_array / np.sum(exp_array)) * 0.9"
   ]
  },
  {
   "cell_type": "code",
   "execution_count": 13,
   "id": "44265d62",
   "metadata": {},
   "outputs": [
    {
     "data": {
      "text/plain": [
       "(0.10000000000000002, 0.9)"
      ]
     },
     "execution_count": 13,
     "metadata": {},
     "output_type": "execute_result"
    }
   ],
   "source": [
    "eighty.sum(),twenty.sum()"
   ]
  },
  {
   "cell_type": "markdown",
   "id": "b61f1e74",
   "metadata": {},
   "source": [
    "##### Check that it sums to 1"
   ]
  },
  {
   "cell_type": "code",
   "execution_count": 14,
   "id": "65c97723",
   "metadata": {},
   "outputs": [
    {
     "data": {
      "text/plain": [
       "1.0"
      ]
     },
     "execution_count": 14,
     "metadata": {},
     "output_type": "execute_result"
    }
   ],
   "source": [
    "b_music = np.concatenate([eighty, twenty])\n",
    "b_music.sum()"
   ]
  },
  {
   "cell_type": "code",
   "execution_count": 15,
   "id": "a6802529",
   "metadata": {},
   "outputs": [
    {
     "data": {
      "text/plain": [
       "array([1.15453007e-03, 3.20805824e-04, 1.35444525e-03, 3.33845781e-03,\n",
       "       2.91550297e-04, 8.74987302e-04, 9.13923657e-04, 8.65637844e-04,\n",
       "       2.57299745e-04, 3.11128800e-03, 6.04080556e-04, 1.90967740e-03,\n",
       "       1.22548007e-03, 3.59844670e-04, 1.71341757e-03, 5.14781706e-04,\n",
       "       2.17066656e-03, 8.87364900e-04, 2.17610073e-03, 1.20218260e-03,\n",
       "       1.31688428e-03, 7.09250560e-04, 3.18588938e-03, 1.05276291e-03,\n",
       "       5.62055511e-04, 9.50427961e-04, 1.97544263e-05, 3.65865949e-04,\n",
       "       1.10018547e-03, 3.49222711e-04, 9.80979567e-04, 5.70786166e-04,\n",
       "       1.48388190e-04, 3.61071943e-04, 8.60202409e-04, 9.11006525e-04,\n",
       "       8.70590674e-04, 1.07948203e-03, 1.07626114e-03, 5.75525477e-04,\n",
       "       2.31249090e-03, 4.67030218e-04, 5.83528312e-04, 2.26792638e-03,\n",
       "       1.67261917e-03, 1.24054675e-03, 1.07654334e-04, 2.56798456e-03,\n",
       "       1.27682277e-03, 6.89618142e-03, 1.64999337e-04, 2.06507339e-03,\n",
       "       1.80753613e-04, 9.74447030e-04, 1.34739068e-04, 1.92034876e-03,\n",
       "       1.67855325e-03, 8.58156078e-04, 5.32978082e-04, 7.30610089e-05,\n",
       "       1.21854863e-03, 6.15981305e-04, 1.30508543e-03, 2.05168339e-03,\n",
       "       3.78168076e-03, 1.97401488e-03, 1.20110265e-05, 4.54879729e-04,\n",
       "       1.33460955e-03, 1.91935068e-04, 7.50361894e-04, 5.69501277e-05,\n",
       "       2.27452905e-04, 1.90568891e-05, 1.60892639e-03, 2.58406450e-04,\n",
       "       4.31847187e-04, 2.68310458e-03, 1.24235843e-03, 3.29823279e-05,\n",
       "       1.83436253e-04, 9.90262707e-04, 8.77566905e-04, 2.76919930e-04,\n",
       "       2.77395694e-03, 9.70230361e-04, 7.81908748e-04, 9.08610584e-04,\n",
       "       1.33510598e-03, 3.81114419e-04, 6.49325022e-02, 3.01127190e-02,\n",
       "       2.63419875e-02, 3.69379396e-01, 1.72007827e-01, 8.62047553e-02,\n",
       "       3.29879210e-02, 3.75260786e-02, 7.64322505e-03, 7.28635882e-02])"
      ]
     },
     "execution_count": 15,
     "metadata": {},
     "output_type": "execute_result"
    }
   ],
   "source": [
    "b_music"
   ]
  },
  {
   "cell_type": "code",
   "execution_count": 16,
   "id": "bf3034d5",
   "metadata": {},
   "outputs": [
    {
     "data": {
      "image/png": "[encoded data removed]",
      "text/plain": [
       "<Figure size 432x288 with 1 Axes>"
      ]
     },
     "metadata": {
      "needs_background": "light"
     },
     "output_type": "display_data"
    }
   ],
   "source": [
    "plt.plot(range(len(b_music)), b_music, marker='o')\n",
    "\n",
    "# Set plot title and axis labels\n",
    "plt.title('music_distribution')\n",
    "plt.xlabel('Position in the words vector')\n",
    "plt.ylabel('Probability that the word will occur')\n",
    "\n",
    "# Show plot\n",
    "plt.show()"
   ]
  },
  {
   "cell_type": "code",
   "execution_count": 17,
   "id": "a459981a",
   "metadata": {},
   "outputs": [
    {
     "name": "stdout",
     "output_type": "stream",
     "text": [
      "<class 'numpy.ndarray'>\n",
      "<class 'numpy.ndarray'>\n",
      "<class 'numpy.ndarray'>\n"
     ]
    },
    {
     "data": {
      "text/plain": [
       "(None, None, None)"
      ]
     },
     "execution_count": 17,
     "metadata": {},
     "output_type": "execute_result"
    }
   ],
   "source": [
    "print(type(b_music)), print(type(b_sport)), print(type(dictionary))"
   ]
  },
  {
   "cell_type": "code",
   "execution_count": 18,
   "id": "1ea8a0fe",
   "metadata": {
    "scrolled": true
   },
   "outputs": [
    {
     "data": {
      "image/png": "[encoded data removed]",
      "text/plain": [
       "<Figure size 432x288 with 1 Axes>"
      ]
     },
     "metadata": {
      "needs_background": "light"
     },
     "output_type": "display_data"
    }
   ],
   "source": [
    "import matplotlib.pyplot as plt\n",
    "\n",
    "\n",
    "# Create a figure and axis\n",
    "fig, ax = plt.subplots()\n",
    "\n",
    "# Plot distribution_1 with a red color\n",
    "ax.plot(range(len(b_sport )), b_sport, 'r', label='Sport')\n",
    "\n",
    "# Plot distribution_2 with a blue color\n",
    "ax.plot(range(len(b_music)), b_music, 'b', label='Music')\n",
    "\n",
    "\n",
    "# Set labels and title\n",
    "ax.set_xlabel('Index in Dictionary')\n",
    "ax.set_ylabel('Probability')\n",
    "ax.set_title('Probability Distributions')\n",
    "\n",
    "# Add legend\n",
    "ax.legend()\n",
    "\n",
    "# Show the plot\n",
    "plt.show()\n"
   ]
  },
  {
   "cell_type": "markdown",
   "id": "c98d51bb",
   "metadata": {},
   "source": [
    "##### MOST PROBABLE WORDS UNDER BOTH DISTRIBUTIONS"
   ]
  },
  {
   "cell_type": "code",
   "execution_count": 19,
   "id": "1f8c9f32",
   "metadata": {},
   "outputs": [],
   "source": [
    "import numpy as np\n",
    "import pandas as pd\n",
    "\n",
    "def most_probable_words(words, probabilities):\n",
    "    # create a DataFrame from the words and probabilities\n",
    "    df = pd.DataFrame({'word': words, 'probability': probabilities})\n",
    "    \n",
    "    # sort by probability in descending order\n",
    "    df_sorted = df.sort_values(by='probability', ascending=False)\n",
    "    \n",
    "    # get the top 10 words\n",
    "    top_10_words = df_sorted.head(10)['word'].values\n",
    "    \n",
    "    return list(top_10_words)\n"
   ]
  },
  {
   "cell_type": "code",
   "execution_count": 20,
   "id": "6a1c585a",
   "metadata": {},
   "outputs": [
    {
     "data": {
      "text/plain": [
       "['canoeing',\n",
       " 'boxing',\n",
       " 'archery',\n",
       " 'bobsleigh',\n",
       " 'badminton',\n",
       " 'athletics',\n",
       " 'baseball',\n",
       " 'bowling',\n",
       " 'basketball',\n",
       " 'cycling']"
      ]
     },
     "execution_count": 20,
     "metadata": {},
     "output_type": "execute_result"
    }
   ],
   "source": [
    "most_probable_words(dictionary, b_sport )"
   ]
  },
  {
   "cell_type": "code",
   "execution_count": 21,
   "id": "3cd17449",
   "metadata": {},
   "outputs": [
    {
     "data": {
      "text/plain": [
       "['band',\n",
       " 'soloist',\n",
       " 'improvisation',\n",
       " 'pop',\n",
       " 'backing singer',\n",
       " 'blues',\n",
       " 'jazz',\n",
       " 'choir',\n",
       " 'ensemble',\n",
       " 'rock']"
      ]
     },
     "execution_count": 21,
     "metadata": {},
     "output_type": "execute_result"
    }
   ],
   "source": [
    "most_probable_words(dictionary, b_music )"
   ]
  },
  {
   "cell_type": "markdown",
   "id": "40c3e847",
   "metadata": {},
   "source": [
    "# GENERATING DOCUMENTS"
   ]
  },
  {
   "cell_type": "markdown",
   "id": "45840d2a",
   "metadata": {},
   "source": [
    "150 document"
   ]
  },
  {
   "cell_type": "code",
   "execution_count": 22,
   "id": "f4d9ef45",
   "metadata": {},
   "outputs": [],
   "source": [
    "K = ['Sport', 'Music'] \n",
    "phi = [0.3, 0.7]\n",
    "n = 100 # number of words per document\n",
    "\n",
    "\n",
    "# Empty list for generated documents\n",
    "documents = []\n",
    "\n",
    "\n",
    "for i in range(150):\n",
    "    # Choose a topic \n",
    "    chosen_topic = np.random.choice(K, p = phi)\n",
    "\n",
    "    if chosen_topic == 'Sport':\n",
    "        chosen_probs = b_sport \n",
    "    else:\n",
    "        chosen_probs = b_music\n",
    "\n",
    "    doc_words = [np.random.choice(dictionary, p=chosen_probs) for j in range(n)]   \n",
    "    doc_string = ' '.join(doc_words)   \n",
    "    documents.append(doc_string)"
   ]
  },
  {
   "cell_type": "code",
   "execution_count": 23,
   "id": "2e2d18e2",
   "metadata": {
    "scrolled": true
   },
   "outputs": [
    {
     "data": {
      "text/plain": [
       "['soloist band choir handball tempo soloist band band blues pop ensemble soloist band football soloist band band band improvisation soloist jazz band improvisation choir pop soloist ensemble pop soloist band ensemble band hiking ensemble band band band band band jazz backing singer band backing singer soloist band band choir backing singer band band pop improvisation soloist blues violin band band pop band band backing singer equestrian pop soloist improvisation band band harmony band pop jazz band pop band pop pop improvisation soloist jazz band improvisation soloist cricket band backing singer pop band band soloist band backing singer improvisation choir band band conductor jazz pop pop blues',\n",
       " 'band instrument band band backing singer surfcasting soloist cycling improvisation backing singer instrument banjo soloist band band band jazz soloist band backing singer swimming band band band soloist soloist band band choir improvisation swimming soloist improvisation improvisation band band band band band ensemble band skeetshooting improvisation lyrics band band band pop soloist paragliding band band band soloist band backing singer band pop choir blues band band blues band soloist band blues soloist soloist band soloist soloist band backing singer improvisation pop band soloist jazz band pop band improvisation blues improvisation backing singer soloist band chord band band jazz motorsports pop band band equestrian choir band pop',\n",
       " 'skiing cycling boxing bobsleigh baseball canoeing athletics athletics bowling archery baseball badminton baseball archery athletics archery canoeing trumpet vocalist bowling badminton canoeing boxing vocalist archery canoeing basketball baseball canoeing baseball canoeing boxing bowling boxing basketball canoeing bowling bobsleigh canoeing kayaking athletics baseball bobsleigh canoeing sampler violin equestrian basketball vocalist baseball archery note baseball canoeing athletics canoeing cycling baseball bobsleigh bobsleigh canoeing baseball badminton boxing basketball canoeing baseball boxing skateboarding canoeing cycling shooting canoeing canoeing bass band boxing archery basketball archery bowling archery boxing bobsleigh cycling bass boxing baseball boxing cycling bowling boxing baseball boxing bobsleigh baseball boxing basketball bobsleigh boxing',\n",
       " 'band rock jazz snowboarding band band backing singer band soloist soloist soloist soloist ensemble band soloist jazz band band hunting soloist bowling band band rock banjo band handball band soloist band ensemble backing singer band soloist soloist pop badminton soloist soloist band pop fencing soloist improvisation band band improvisation producer band band soloist harmonica band band soloist blues soloist backing singer pop jazz band rock band rock improvisation pop rock powerlifting choir band pop band backing singer blues band blues backing singer soloist band lyrics soloist band sailing swimming swimming blues soloist blues soloist band band pop band band band pop choir band soloist chord',\n",
       " 'band band band band band band band pop backing singer producer band soloist soloist band pop band soloist soloist improvisation pop blues improvisation soloist band backing singer chord band band band improvisation pop backing singer backing singer band soloist improvisation pop pop band band backing singer soloist soloist jazz producer band band band choir jazz swimming band backing singer band pop band jazz backing singer band band band soloist band soloist soloist band band soloist key improvisation soloist soloist band backing singer band band band hunting soloist backing singer soloist soloist soloist pop backing singer jazz hunting band band band band choir football band improvisation band band instrument clarinet band',\n",
       " 'baseball archery archery canoeing badminton boxing canoeing boxing archery badminton bowling boxing bobsleigh canoeing canoeing motorsports athletics cycling bobsleigh cycling canoeing producer canoeing bobsleigh boxing bobsleigh bobsleigh baseball boxing canoeing baseball boxing archery badminton athletics violin athletics badminton boxing archery cycling canoeing bass boxing basketball boxing paragliding boxing baseball cycling bobsleigh athletics baseball basketball canoeing boxing bowling bobsleigh cycling skiing vocalist bobsleigh bass canoeing canoeing baseball badminton badminton judo basketball boxing boxing canoeing canoeing archery bowling canoeing canoeing archery badminton basketball archery bowling archery boxing baseball boxing archery trumpet powerlifting bobsleigh baseball baseball boxing athletics canoeing bowling bobsleigh canoeing canoeing',\n",
       " 'band blues improvisation band soloist band jazz backing singer ensemble choir band soloist band band athletics band chord ensemble pop ensemble jazz improvisation backing singer soloist backing singer soloist soloist improvisation band blues snowboarding band soloist band choir backing singer improvisation band blues soloist band band band blues soloist baseball soloist rock soloist choir band backing singer band pop rock band band soloist pop backing singer band jazz band blues choir band band band band band band blues soloist soloist band band improvisation improvisation band improvisation soloist backing singer jazz band band band band soloist band jazz soloist band band improvisation band ensemble swimming jazz blues backing singer',\n",
       " 'choir backing singer blues swimming pop dj jazz band band band soloist band soloist band band blues band improvisation soloist rugby improvisation ensemble blues skating band vocalist band improvisation band backing singer band improvisation backing singer band pitch soloist band band soloist band soloist improvisation ensemble pop backing singer band choir band band band jazz blues ensemble soloist backing singer band band band band soloist pitch jazz soloist choir pop band pop ensemble band band band soloist rock improvisation soloist band rock band jazz improvisation ensemble improvisation cycling band band band soloist conductor band pop band soloist soloist cycling band soloist skating jazz band judo',\n",
       " 'harmony boxing archery basketball boxing athletics bowling boxing baseball boxing canoeing baseball canoeing canoeing soccer canoeing canoeing boxing badminton band archery boxing archery skeetshooting piano canoeing bobsleigh baseball baseball archery boxing archery basketball canoeing canoeing athletics bowling canoeing canoeing boxing violin baseball athletics boxing baseball canoeing baseball basketball canoeing canoeing boxing canoeing bowling athletics athletics boxing archery athletics piano canoeing archery athletics shooting baseball badminton canoeing archery baseball trumpet canoeing boxing bobsleigh canoeing archery bass canoeing canoeing athletics canoeing handball boxing bobsleigh archery canoeing cycling archery canoeing athletics bass canoeing boxing basketball paddleboarding baseball canoeing sampler canoeing boxing archery boxing',\n",
       " 'ensemble band band backing singer band band band paragliding blues improvisation band jazz pop backing singer soloist pop pop soloist backing singer band badminton ensemble pop band soloist band pop soloist band improvisation backing singer band ensemble soloist backing singer band band band band soloist handball soloist band band improvisation pop band improvisation backing singer soloist soloist backing singer band blues backing singer fencing band band improvisation rock band band band band pop soloist band band pop backing singer soloist rock soloist band ensemble band soloist soloist pop jazz improvisation blues band band band band soloist band football band band pop blues jazz soloist band band improvisation singer improvisation']"
      ]
     },
     "execution_count": 23,
     "metadata": {},
     "output_type": "execute_result"
    }
   ],
   "source": [
    "documents[:10]"
   ]
  },
  {
   "cell_type": "markdown",
   "id": "939b0f40",
   "metadata": {},
   "source": [
    "1000 documents"
   ]
  },
  {
   "cell_type": "code",
   "execution_count": 24,
   "id": "62454f27",
   "metadata": {},
   "outputs": [],
   "source": [
    "K = ['Sport', 'Music'] \n",
    "phi = [0.3, 0.7]\n",
    "n = 100 # number of words per document\n",
    "\n",
    "\n",
    "# Empty list for generated documents\n",
    "long_documents = []\n",
    "\n",
    "\n",
    "for i in range(1000):\n",
    "    # Choose a topic \n",
    "    chosen_topic = np.random.choice(K, p = phi)\n",
    "\n",
    "    if chosen_topic == 'Sport':\n",
    "        chosen_probs = b_sport \n",
    "    else:\n",
    "        chosen_probs = b_music\n",
    "\n",
    "    doc_words = [np.random.choice(dictionary, p=chosen_probs) for j in range(n)]   \n",
    "    doc_string = ' '.join(doc_words)   \n",
    "    long_documents.append(doc_string)"
   ]
  },
  {
   "cell_type": "markdown",
   "id": "2484652d",
   "metadata": {},
   "source": [
    "# DOCUMENT TERM MATRIX"
   ]
  },
  {
   "cell_type": "code",
   "execution_count": 25,
   "id": "40ef37c6",
   "metadata": {},
   "outputs": [],
   "source": [
    "import pandas as pd"
   ]
  },
  {
   "cell_type": "code",
   "execution_count": 26,
   "id": "ba513b3b",
   "metadata": {},
   "outputs": [],
   "source": [
    "# Create DataFrame\n",
    "short = pd.DataFrame(documents, columns=['documents'])\n",
    "# Print DataFrame\n",
    "# print(short)"
   ]
  },
  {
   "cell_type": "code",
   "execution_count": 27,
   "id": "4afa0350",
   "metadata": {},
   "outputs": [],
   "source": [
    "# Create DataFrame\n",
    "long = pd.DataFrame(long_documents, columns=['documents'])\n",
    "#print(long)"
   ]
  },
  {
   "cell_type": "markdown",
   "id": "288d3423",
   "metadata": {},
   "source": [
    "short DTM:"
   ]
  },
  {
   "cell_type": "code",
   "execution_count": 28,
   "id": "80d48a6a",
   "metadata": {},
   "outputs": [
    {
     "name": "stdout",
     "output_type": "stream",
     "text": [
      "     accordion  archery  athletics  backing  badminton  band  banjo  baseball  \\\n",
      "0            0        0          0        6          0    36      0         0   \n",
      "1            0        0          0        6          0    41      1         0   \n",
      "2            0        8          5        0          3     1      0        14   \n",
      "3            0        0          0        5          1    33      1         0   \n",
      "4            0        0          0       10          0    41      0         0   \n",
      "..         ...      ...        ...      ...        ...   ...    ...       ...   \n",
      "145          0        0          0        4          0    43      0         0   \n",
      "146          0       11          3        0         11     0      0         5   \n",
      "147          0        0          0        8          0    28      0         1   \n",
      "148          0        0          0        6          1    36      1         0   \n",
      "149          0        0          0        6          0    37      0         2   \n",
      "\n",
      "     basketball  bass  ...  surfcasting  surfing  swimming  synthesizer  \\\n",
      "0             0     0  ...            0        0         0            0   \n",
      "1             0     0  ...            1        0         2            0   \n",
      "2             6     2  ...            0        0         0            0   \n",
      "3             0     0  ...            0        0         2            0   \n",
      "4             0     0  ...            0        0         1            0   \n",
      "..          ...   ...  ...          ...      ...       ...          ...   \n",
      "145           0     1  ...            1        1         0            0   \n",
      "146           4     0  ...            0        0         0            0   \n",
      "147           0     0  ...            1        0         1            0   \n",
      "148           0     0  ...            0        0         0            0   \n",
      "149           0     0  ...            0        0         1            1   \n",
      "\n",
      "     tempo  trumpet  tune  ukulele  violin  vocalist  \n",
      "0        1        0     0        0       1         0  \n",
      "1        0        0     0        0       0         0  \n",
      "2        0        1     0        0       1         3  \n",
      "3        0        0     0        0       0         0  \n",
      "4        0        0     0        0       0         0  \n",
      "..     ...      ...   ...      ...     ...       ...  \n",
      "145      0        0     0        0       0         0  \n",
      "146      0        0     0        1       0         2  \n",
      "147      0        0     0        0       0         0  \n",
      "148      0        0     0        0       0         0  \n",
      "149      0        0     0        0       0         0  \n",
      "\n",
      "[150 rows x 100 columns]\n"
     ]
    }
   ],
   "source": [
    "from sklearn.feature_extraction.text import CountVectorizer\n",
    "\n",
    "vectorizer = CountVectorizer()\n",
    "\n",
    "# Learn the vocabulary dictionary and return document-term matrix.\n",
    "X = vectorizer.fit_transform(short['documents'])\n",
    "\n",
    "# Create a DataFrame\n",
    "short_dtm = pd.DataFrame(X.toarray(), columns=vectorizer.get_feature_names())\n",
    "\n",
    "print(short_dtm)"
   ]
  },
  {
   "cell_type": "markdown",
   "id": "e09a9601",
   "metadata": {},
   "source": [
    "long DTM:"
   ]
  },
  {
   "cell_type": "code",
   "execution_count": 29,
   "id": "95756b7d",
   "metadata": {},
   "outputs": [
    {
     "name": "stdout",
     "output_type": "stream",
     "text": [
      "     accordion  archery  athletics  backing  badminton  band  banjo  baseball  \\\n",
      "0            0        0          0        6          0    43      2         0   \n",
      "1            0       13          4        0          7     0      0         4   \n",
      "2            0       12          1        0          6     0      0        12   \n",
      "3            0        0          0        7          0    39      0         0   \n",
      "4            0        0          0        8          0    42      0         0   \n",
      "..         ...      ...        ...      ...        ...   ...    ...       ...   \n",
      "995          0        0          0        3          2    39      0         1   \n",
      "996          0        0          0        6          0    37      0         1   \n",
      "997          0       13          3        0          9     0      0         7   \n",
      "998          0        7          7        0          9     0      0         6   \n",
      "999          0        0          0        8          0    44      1         0   \n",
      "\n",
      "     basketball  bass  ...  surfcasting  surfing  swimming  synthesizer  \\\n",
      "0             0     0  ...            0        0         1            0   \n",
      "1             4     0  ...            0        0         0            0   \n",
      "2             3     0  ...            0        0         0            0   \n",
      "3             0     0  ...            1        0         1            0   \n",
      "4             0     1  ...            1        0         1            0   \n",
      "..          ...   ...  ...          ...      ...       ...          ...   \n",
      "995           0     0  ...            0        0         1            0   \n",
      "996           0     0  ...            1        0         2            0   \n",
      "997           5     0  ...            0        0         0            0   \n",
      "998           3     1  ...            0        0         0            0   \n",
      "999           0     0  ...            0        1         2            1   \n",
      "\n",
      "     tempo  trumpet  tune  ukulele  violin  vocalist  \n",
      "0        0        0     0        0       0         0  \n",
      "1        0        1     0        0       1         1  \n",
      "2        0        1     0        0       0         0  \n",
      "3        0        0     0        0       0         0  \n",
      "4        1        0     0        0       0         0  \n",
      "..     ...      ...   ...      ...     ...       ...  \n",
      "995      0        0     0        0       0         0  \n",
      "996      0        0     0        0       0         0  \n",
      "997      0        1     0        0       0         0  \n",
      "998      1        1     0        0       0         0  \n",
      "999      0        0     0        0       0         0  \n",
      "\n",
      "[1000 rows x 100 columns]\n"
     ]
    }
   ],
   "source": [
    "from sklearn.feature_extraction.text import CountVectorizer\n",
    "\n",
    "vectorizer = CountVectorizer()\n",
    "\n",
    "# Learn the vocabulary dictionary and return document-term matrix.\n",
    "X = vectorizer.fit_transform(long['documents'])\n",
    "\n",
    "# Create a DataFrame\n",
    "long_dtm = pd.DataFrame(X.toarray(), columns=vectorizer.get_feature_names())\n",
    "\n",
    "print(long_dtm)"
   ]
  },
  {
   "cell_type": "markdown",
   "id": "338c1a10",
   "metadata": {},
   "source": [
    "Now we want to save both matrices and topics for further use in the EM alghorithm"
   ]
  },
  {
   "cell_type": "code",
   "execution_count": 30,
   "id": "4ed107e2",
   "metadata": {},
   "outputs": [],
   "source": [
    "import pandas as pd\n",
    "\n",
    "df = pd.DataFrame(short_dtm)\n",
    "\n",
    "# Save DataFrame to CSV\n",
    "df.to_csv('short_dtm.csv', index=False)\n"
   ]
  },
  {
   "cell_type": "code",
   "execution_count": 31,
   "id": "bcc3b6d7",
   "metadata": {},
   "outputs": [],
   "source": [
    "import pandas as pd\n",
    "\n",
    "df = pd.DataFrame(long_dtm)\n",
    "\n",
    "# Save DataFrame to CSV\n",
    "df.to_csv('long_dtm.csv', index=False)"
   ]
  },
  {
   "cell_type": "code",
   "execution_count": 32,
   "id": "f147a328",
   "metadata": {},
   "outputs": [],
   "source": [
    "import numpy as np\n",
    "\n",
    "# Combine the arrays. Here we stack them vertically using vstack\n",
    "combined_array = np.vstack((b_sport, b_music))\n",
    "\n",
    "# Transpose if you want each array as a column instead of a row\n",
    "combined_array = combined_array.T\n",
    "\n",
    "# Save to a CSV file\n",
    "np.savetxt(\"beta_original.csv\", combined_array, delimiter=\",\")\n"
   ]
  }
 ],
 "metadata": {
  "kernelspec": {
   "display_name": "Python 3",
   "language": "python",
   "name": "python3"
  },
  "language_info": {
   "codemirror_mode": {
    "name": "ipython",
    "version": 3
   },
   "file_extension": ".py",
   "mimetype": "text/x-python",
   "name": "python",
   "nbconvert_exporter": "python",
   "pygments_lexer": "ipython3",
   "version": "3.8.8"
  }
 },
 "nbformat": 4,
 "nbformat_minor": 5
}
