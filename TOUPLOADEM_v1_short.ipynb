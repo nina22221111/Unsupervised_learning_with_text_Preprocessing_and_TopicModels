{
 "cells": [
  {
   "cell_type": "markdown",
   "id": "07be473b",
   "metadata": {},
   "source": [
    "# EM ALGORITHM"
   ]
  },
  {
   "cell_type": "code",
   "execution_count": 1,
   "id": "a516a39f",
   "metadata": {},
   "outputs": [],
   "source": [
    "import numpy as np \n",
    "import pandas as pd \n",
    "import os\n",
    "import matplotlib.pyplot as plt"
   ]
  },
  {
   "cell_type": "markdown",
   "id": "32eb577a",
   "metadata": {},
   "source": [
    "##### DICTIONARY"
   ]
  },
  {
   "cell_type": "code",
   "execution_count": 2,
   "id": "92609dfa",
   "metadata": {},
   "outputs": [],
   "source": [
    "dictionary = ['Athletics',\n",
    " 'Archery',\n",
    " 'Badminton',\n",
    " 'Baseball',\n",
    " 'Basketball',\n",
    " 'Bobsleigh',\n",
    " 'Bowling',\n",
    " 'Boxing',\n",
    " 'Canoeing',\n",
    " 'Cycling',\n",
    " 'Climbing',\n",
    " 'Cricket',\n",
    " 'Diving',\n",
    " 'Equestrian',\n",
    " 'Fencing',\n",
    " 'Fishing',\n",
    " 'Football',\n",
    " 'Golf',\n",
    " 'Gymnastics',\n",
    " 'Handball',\n",
    " 'Hiking',\n",
    " 'Hockey',\n",
    " 'Hunting',\n",
    " 'Judo',\n",
    " 'Karate',\n",
    " 'Kayaking',\n",
    " 'Lacrosse',\n",
    " 'Motorsports',\n",
    " 'Paddleboarding',\n",
    " 'Paintball',\n",
    " 'Paragliding',\n",
    " 'Powerlifting',\n",
    " 'Rafting',\n",
    " 'Rockclimbing',\n",
    " 'Rowing',\n",
    " 'Rugby',\n",
    " 'Running',\n",
    " 'Sailing',\n",
    " 'Shooting',\n",
    " 'Skateboarding',\n",
    " 'Skating',\n",
    " 'Skeetshooting',\n",
    " 'Skiing',\n",
    " 'Skydiving',\n",
    " 'Snowboarding',\n",
    " 'Soccer',\n",
    " 'Squash',\n",
    " 'Surfcasting',\n",
    " 'Surfing',\n",
    " 'Swimming',\n",
    " 'Note',\n",
    " 'Chord',\n",
    " 'Harmony',\n",
    " 'Melody',\n",
    " 'Rhythm',\n",
    " 'Beat',\n",
    " 'Tempo',\n",
    " 'Pitch',\n",
    " 'Key',\n",
    " 'Scale',\n",
    " 'Interval',\n",
    " 'Tune',\n",
    " 'Composition',\n",
    " 'Song',\n",
    " 'Lyrics',\n",
    " 'Instrument',\n",
    " 'Piano',\n",
    " 'Guitar',\n",
    " 'Bass',\n",
    " 'Drums',\n",
    " 'Violin',\n",
    " 'Cello',\n",
    " 'Trumpet',\n",
    " 'Saxophone',\n",
    " 'Clarinet',\n",
    " 'Flute',\n",
    " 'Harp',\n",
    " 'Accordion',\n",
    " 'Banjo',\n",
    " 'Mandolin',\n",
    " 'Ukulele',\n",
    " 'Harmonica',\n",
    " 'Synthesizer',\n",
    " 'Sampler',\n",
    " 'Mixer',\n",
    " 'DJ',\n",
    " 'Producer',\n",
    " 'Conductor',\n",
    " 'Singer',\n",
    " 'Vocalist',\n",
    " 'Backing Singer',\n",
    " 'Choir',\n",
    " 'Ensemble',\n",
    " 'Band',\n",
    " 'Soloist',\n",
    " 'Improvisation',\n",
    " 'Jazz',\n",
    " 'Blues',\n",
    " 'Rock',\n",
    " 'Pop']"
   ]
  },
  {
   "cell_type": "code",
   "execution_count": 3,
   "id": "b190d9a5",
   "metadata": {},
   "outputs": [],
   "source": [
    "dictionary = [word.lower() for word in dictionary]"
   ]
  },
  {
   "cell_type": "code",
   "execution_count": 4,
   "id": "1383a5fc",
   "metadata": {},
   "outputs": [],
   "source": [
    "dictionary = np.array(dictionary)"
   ]
  },
  {
   "cell_type": "code",
   "execution_count": 5,
   "id": "e1413899",
   "metadata": {},
   "outputs": [
    {
     "data": {
      "text/plain": [
       "array(['athletics', 'archery', 'badminton', 'baseball', 'basketball',\n",
       "       'bobsleigh', 'bowling', 'boxing', 'canoeing', 'cycling',\n",
       "       'climbing', 'cricket', 'diving', 'equestrian', 'fencing',\n",
       "       'fishing', 'football', 'golf', 'gymnastics', 'handball', 'hiking',\n",
       "       'hockey', 'hunting', 'judo', 'karate', 'kayaking', 'lacrosse',\n",
       "       'motorsports', 'paddleboarding', 'paintball', 'paragliding',\n",
       "       'powerlifting', 'rafting', 'rockclimbing', 'rowing', 'rugby',\n",
       "       'running', 'sailing', 'shooting', 'skateboarding', 'skating',\n",
       "       'skeetshooting', 'skiing', 'skydiving', 'snowboarding', 'soccer',\n",
       "       'squash', 'surfcasting', 'surfing', 'swimming', 'note', 'chord',\n",
       "       'harmony', 'melody', 'rhythm', 'beat', 'tempo', 'pitch', 'key',\n",
       "       'scale', 'interval', 'tune', 'composition', 'song', 'lyrics',\n",
       "       'instrument', 'piano', 'guitar', 'bass', 'drums', 'violin',\n",
       "       'cello', 'trumpet', 'saxophone', 'clarinet', 'flute', 'harp',\n",
       "       'accordion', 'banjo', 'mandolin', 'ukulele', 'harmonica',\n",
       "       'synthesizer', 'sampler', 'mixer', 'dj', 'producer', 'conductor',\n",
       "       'singer', 'vocalist', 'backing singer', 'choir', 'ensemble',\n",
       "       'band', 'soloist', 'improvisation', 'jazz', 'blues', 'rock', 'pop'],\n",
       "      dtype='<U14')"
      ]
     },
     "execution_count": 5,
     "metadata": {},
     "output_type": "execute_result"
    }
   ],
   "source": [
    "dictionary"
   ]
  },
  {
   "cell_type": "markdown",
   "id": "37ac8fae",
   "metadata": {},
   "source": [
    "##### MOST PROBABLE WORDS FUNCTION"
   ]
  },
  {
   "cell_type": "code",
   "execution_count": 6,
   "id": "2b113eae",
   "metadata": {},
   "outputs": [],
   "source": [
    "import numpy as np\n",
    "import pandas as pd\n",
    "\n",
    "def most_probable_words(words, probabilities):\n",
    "    # create a DataFrame from the words and probabilities\n",
    "    df = pd.DataFrame({'word': words, 'probability': probabilities})\n",
    "    \n",
    "    # sort by probability in descending order\n",
    "    df_sorted = df.sort_values(by='probability', ascending=False)\n",
    "    \n",
    "    # get the top 10 words\n",
    "    top_10_words = df_sorted.head(10)['word'].values\n",
    "    \n",
    "    return list(top_10_words)"
   ]
  },
  {
   "cell_type": "markdown",
   "id": "1a56fccf",
   "metadata": {},
   "source": [
    "## RELOADING ORIGINAL DISTRIBUTIONS OVER WORDS"
   ]
  },
  {
   "cell_type": "code",
   "execution_count": 7,
   "id": "c46ed92f",
   "metadata": {},
   "outputs": [],
   "source": [
    "import numpy as np\n",
    "\n",
    "# Load the data from the CSV file\n",
    "loaded_data = np.loadtxt(\"beta_original.csv\", delimiter=\",\")\n",
    "\n",
    "b_sport = loaded_data[:, 0]  # First column\n",
    "b_music = loaded_data[:, 1]  # Second column\n"
   ]
  },
  {
   "cell_type": "markdown",
   "id": "40c3e847",
   "metadata": {},
   "source": [
    "## RELOADING DTM"
   ]
  },
  {
   "cell_type": "code",
   "execution_count": 8,
   "id": "3a558b86",
   "metadata": {},
   "outputs": [],
   "source": [
    "import pandas as pd\n",
    "\n",
    "# Load the CSV data into a DataFrame\n",
    "short_dtm = pd.read_csv('short_dtm.csv')\n",
    "# Convert the DataFrame to a matrix if needed\n",
    "#short_dtm = df.values"
   ]
  },
  {
   "cell_type": "markdown",
   "id": "66caa1ce",
   "metadata": {},
   "source": [
    "# EM"
   ]
  },
  {
   "cell_type": "code",
   "execution_count": 9,
   "id": "0b9e1375",
   "metadata": {},
   "outputs": [
    {
     "name": "stdout",
     "output_type": "stream",
     "text": [
      "Converged at iteration 2\n",
      "Beta 1:  [1.77902622e-03 2.80898876e-04 1.21722846e-03 6.36704120e-02\n",
      " 2.05992509e-03 3.51404494e-01 1.21722846e-03 3.08988764e-03\n",
      " 4.68164794e-04 1.12359551e-03 1.68539326e-03 3.53932584e-02\n",
      " 3.74531835e-04 1.21722846e-03 3.74531835e-04 2.80898876e-04\n",
      " 9.36329588e-05 2.48127341e-02 2.34082397e-03 8.42696629e-04\n",
      " 4.68164794e-04 1.31086142e-03 1.12359551e-03 2.43445693e-03\n",
      " 2.52808989e-03 1.02996255e-03 1.59176030e-03 9.36329588e-05\n",
      " 2.44382022e-02 5.61797753e-04 1.77902622e-03 1.87265918e-04\n",
      " 9.36329588e-05 1.87265918e-03 3.74531835e-04 2.80898876e-04\n",
      " 1.87265918e-03 1.31086142e-03 9.36329588e-04 1.87265918e-04\n",
      " 0.00000000e+00 1.59176030e-03 6.55430712e-04 4.11985019e-03\n",
      " 7.97752809e-02 1.59176030e-03 9.36329588e-04 3.07116105e-02\n",
      " 1.12359551e-03 4.68164794e-04 1.21722846e-03 5.61797753e-04\n",
      " 0.00000000e+00 4.21348315e-03 9.36329588e-05 4.68164794e-04\n",
      " 2.90262172e-03 5.61797753e-04 3.74531835e-04 6.55430712e-04\n",
      " 3.74531835e-04 1.02996255e-03 0.00000000e+00 1.21722846e-03\n",
      " 6.39513109e-02 1.87265918e-04 5.61797753e-04 1.87265918e-04\n",
      " 9.36329588e-05 8.98876404e-03 1.87265918e-04 9.36329588e-04\n",
      " 1.40449438e-03 9.36329588e-04 1.12359551e-03 2.80898876e-04\n",
      " 0.00000000e+00 9.36329588e-05 7.49063670e-04 6.50749064e-02\n",
      " 3.74531835e-04 3.27715356e-03 5.61797753e-04 2.80898876e-04\n",
      " 1.87265918e-03 1.77902622e-03 1.21722846e-03 1.55992509e-01\n",
      " 1.49812734e-03 0.00000000e+00 2.62172285e-03 1.31086142e-03\n",
      " 7.11610487e-03 6.55430712e-04 2.15355805e-03 0.00000000e+00\n",
      " 5.61797753e-04 4.68164794e-04 4.68164794e-04 1.87265918e-04]\n",
      "Beta 2:  [0.00000000e+00 9.57425545e-02 6.43613832e-02 5.99640216e-04\n",
      " 7.01579053e-02 1.79892065e-03 7.99520288e-04 6.45612632e-02\n",
      " 4.27743354e-02 3.79772137e-03 5.99640216e-04 0.00000000e+00\n",
      " 7.65540676e-02 4.41734959e-02 1.63501899e-01 2.39456326e-01\n",
      " 1.59904058e-03 1.39916050e-03 3.99760144e-04 3.99760144e-04\n",
      " 7.99520288e-04 1.99880072e-03 3.99760144e-04 5.99640216e-04\n",
      " 3.65780532e-02 7.99520288e-04 3.99760144e-04 1.99880072e-04\n",
      " 1.99880072e-04 4.19748151e-03 0.00000000e+00 0.00000000e+00\n",
      " 0.00000000e+00 0.00000000e+00 1.39916050e-03 0.00000000e+00\n",
      " 2.79832101e-03 2.59844094e-03 5.99640216e-04 5.59664201e-03\n",
      " 3.99760144e-04 5.99640216e-03 2.79832101e-03 5.99640216e-04\n",
      " 1.99880072e-04 3.99760144e-04 3.99760144e-04 3.99760144e-04\n",
      " 1.59904058e-03 0.00000000e+00 1.39916050e-03 3.99760144e-04\n",
      " 1.99880072e-04 1.99880072e-04 0.00000000e+00 0.00000000e+00\n",
      " 0.00000000e+00 3.79772137e-03 1.19928043e-03 1.19928043e-03\n",
      " 1.99880072e-04 3.99760144e-04 2.79832101e-03 1.99880072e-04\n",
      " 0.00000000e+00 1.59904058e-03 5.99640216e-04 1.99880072e-04\n",
      " 0.00000000e+00 2.59844094e-03 7.99520288e-04 0.00000000e+00\n",
      " 7.99520288e-04 9.99400360e-04 7.99520288e-04 1.59904058e-03\n",
      " 9.99400360e-04 5.99640216e-04 3.79772137e-03 1.59904058e-03\n",
      " 1.59904058e-03 1.19928043e-03 1.39916050e-03 2.59844094e-03\n",
      " 0.00000000e+00 1.19928043e-03 1.59904058e-03 5.99640216e-04\n",
      " 0.00000000e+00 5.99640216e-04 3.99760144e-04 7.99520288e-04\n",
      " 5.99640216e-04 0.00000000e+00 1.19928043e-03 4.59724166e-03\n",
      " 0.00000000e+00 7.99520288e-04 2.59844094e-03 4.59724166e-03]\n",
      "Pi 1:  0.6666666666666666\n"
     ]
    },
    {
     "data": {
      "image/png": "[encoded data removed]",
      "text/plain": [
       "<Figure size 720x360 with 1 Axes>"
      ]
     },
     "metadata": {
      "needs_background": "light"
     },
     "output_type": "display_data"
    }
   ],
   "source": [
    "def EM_algorithm(data_matrix, max_iter=300, param_tol=1e-20, likelihood_tol=1e-5, moving_avg_window=50):\n",
    "    D, V = data_matrix.shape \n",
    "\n",
    "    # initialize parameters randomly\n",
    "    pi = 0.5\n",
    "    beta = np.random.rand(2, V)\n",
    "    beta /= np.sum(beta, axis=1)[:, np.newaxis]\n",
    "\n",
    "    log_likelihoods = []\n",
    "\n",
    "    # Store initial values to calculate rate of change\n",
    "    old_pi = pi\n",
    "    old_beta = beta.copy()\n",
    "    \n",
    "    for i in range(max_iter):\n",
    "        \n",
    "    # EXPECTATION\n",
    "        \n",
    "        # Initializes an empty 2D array p_z with D rows and 2 columns. D represents the number of documents \n",
    "        # in the dataset. \n",
    "        # p_z will store the probability of each document belonging to each of the two clusters (topics).\n",
    "        \n",
    "        p_z = np.zeros((D, 2)) \n",
    "        p_z[:, 0] = pi * np.prod(beta[0]**data_matrix, axis=1)\n",
    "        p_z[:, 1] = (1 - pi) * np.prod(beta[1]**data_matrix, axis=1)\n",
    "        \n",
    "                # beta[0] is selecting the first row of the beta matrix, which represents the probabilities \n",
    "                # of each word given topic 1. **data_matrix is applying element-wise exponentiation of beta[0] \n",
    "                # with each document in the data_matrix. np.prod(..., axis=1) is then calculating the product \n",
    "                # of these probabilities along axis=1, which represents the words (the columns of data_matrix). \n",
    "                # For each document (each row of data_matrix), it's calculating the product of the \n",
    "                # probabilities of the words in that document.\n",
    "        \n",
    "        p_z /= np.sum(p_z, axis=1)[:, np.newaxis] # normalize\n",
    "\n",
    "    # MAXIMIZATION\n",
    "        \n",
    "        # Calculating the average of the posterior probabilities of each document belonging to class 1      \n",
    "        pi = np.mean(p_z[:, 0]) \n",
    "        \n",
    "        for k in range(2):\n",
    "            for v in range(V): \n",
    "                \n",
    "                # Updates each entry in beta\n",
    "                # Calculating the sum of the product of the posterior probabilities of each document having \n",
    "                # topic k and the count of word v in each document.\n",
    "                beta[k, v] = np.sum(p_z[:, k] * data_matrix[:, v]) \n",
    "            beta[k] /= np.sum(beta[k])  # normalize \n",
    "                                        # dividing each entry in the kth row of beta by the sum of that row.\n",
    "\n",
    "\n",
    "        # Compute log likelihood and add to list\n",
    "        log_likelihood = np.sum(p_z[:, 0]*np.log(pi * np.prod(beta[0]**data_matrix, axis=1) + 1e-10) +\n",
    "                                p_z[:, 1]*np.log((1 - pi) * np.prod(beta[1]**data_matrix, axis=1) + 1e-10))\n",
    "        log_likelihoods.append(log_likelihood)\n",
    "\n",
    "        # Initialize convergence count\n",
    "        convergence_count = 0\n",
    "        \n",
    "        # Paramater convergence\n",
    "        param_converged = i > 0 and np.abs(pi - old_pi) < param_tol and np.linalg.norm(beta - old_beta) < param_tol\n",
    "\n",
    "        # Check for convergence using difference in log likelihoods\n",
    "        likelihood_converged = i > 0 and np.abs(log_likelihoods[i] - log_likelihoods[i-1]) < likelihood_tol\n",
    "        \n",
    "        # If both conditions are satisfied, break the loop\n",
    "        if param_converged and likelihood_converged:\n",
    "            print(f'Converged at iteration {i}')\n",
    "            break\n",
    "\n",
    "        # Store old values for next iteration\n",
    "        old_pi = pi\n",
    "        old_beta = beta.copy()\n",
    "            \n",
    "    return pi, beta, log_likelihoods\n",
    "\n",
    "# Load data\n",
    "data_matrix = short_dtm\n",
    "\n",
    "# Convert DataFrame to NumPy array before passing to EM_algorithm\n",
    "data_matrix_np = data_matrix.to_numpy()\n",
    "\n",
    "# Run EM\n",
    "pi, beta, log_likelihoods = EM_algorithm(data_matrix_np)\n",
    "\n",
    "\n",
    "# Print beta_1, beta_2, and pi_1\n",
    "print(\"Beta 1: \", beta[0])\n",
    "print(\"Beta 2: \", beta[1])\n",
    "print(\"Pi 1: \", pi)\n",
    "\n",
    "# Plot betas\n",
    "plt.figure(figsize=(10,5))\n",
    "plt.plot(beta[0], label='Beta 1')\n",
    "plt.plot(beta[1], label='Beta 2')\n",
    "plt.legend()\n",
    "plt.show()"
   ]
  },
  {
   "cell_type": "markdown",
   "id": "7442bd1b",
   "metadata": {},
   "source": [
    "###### MOST PROBABLE WORDS"
   ]
  },
  {
   "cell_type": "code",
   "execution_count": 10,
   "id": "99b443ea",
   "metadata": {},
   "outputs": [
    {
     "data": {
      "text/plain": [
       "['bobsleigh',\n",
       " 'conductor',\n",
       " 'snowboarding',\n",
       " 'mandolin',\n",
       " 'lyrics',\n",
       " 'baseball',\n",
       " 'cricket',\n",
       " 'surfcasting',\n",
       " 'golf',\n",
       " 'paddleboarding']"
      ]
     },
     "execution_count": 10,
     "metadata": {},
     "output_type": "execute_result"
    }
   ],
   "source": [
    "most_probable_words(dictionary, beta[0])"
   ]
  },
  {
   "cell_type": "code",
   "execution_count": 11,
   "id": "13269108",
   "metadata": {},
   "outputs": [
    {
     "data": {
      "text/plain": [
       "['fishing',\n",
       " 'fencing',\n",
       " 'archery',\n",
       " 'diving',\n",
       " 'basketball',\n",
       " 'boxing',\n",
       " 'badminton',\n",
       " 'equestrian',\n",
       " 'canoeing',\n",
       " 'karate']"
      ]
     },
     "execution_count": 11,
     "metadata": {},
     "output_type": "execute_result"
    }
   ],
   "source": [
    "most_probable_words(dictionary, beta[1])"
   ]
  }
 ],
 "metadata": {
  "kernelspec": {
   "display_name": "Python 3",
   "language": "python",
   "name": "python3"
  },
  "language_info": {
   "codemirror_mode": {
    "name": "ipython",
    "version": 3
   },
   "file_extension": ".py",
   "mimetype": "text/x-python",
   "name": "python",
   "nbconvert_exporter": "python",
   "pygments_lexer": "ipython3",
   "version": "3.8.8"
  }
 },
 "nbformat": 4,
 "nbformat_minor": 5
}
